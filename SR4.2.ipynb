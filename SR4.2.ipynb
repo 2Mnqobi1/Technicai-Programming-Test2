{
 "cells": [
  {
   "cell_type": "code",
   "execution_count": null,
   "id": "9540d24d-8ac8-4aa4-8bd7-bd6bb74a3d0e",
   "metadata": {},
   "outputs": [],
   "source": [
    "def linear_search(arr, target):\n",
    "    \"\"\"Performs linear search on the given array.\"\"\"\n",
    "    for index, element in enumerate(arr):\n",
    "        if element == target:\n",
    "            return index\n",
    "    return -1\n",
    "\n",
    "def binary_search(arr, target):\n",
    "    \"\"\"Performs binary search on the given sorted array.\"\"\"\n",
    "    left, right = 0, len(arr) - 1\n",
    "    while left <= right:\n",
    "        mid = (left + right) // 2\n",
    "        if arr[mid] == target:\n",
    "            return mid\n",
    "        elif arr[mid] < target:\n",
    "            left = mid + 1\n",
    "        else:\n",
    "            right = mid - 1\n",
    "    return -1\n",
    "\n",
    "# Example dataset and target element\n",
    "dataset = [3, 6, 8, 12, 14, 18, 21, 24, 27, 30]\n",
    "target = 18\n",
    "\n",
    "# Linear Search\n",
    "linear_result = linear_search(dataset, target)\n",
    "print(f\"Linear Search: Element found at index {linear_result}\")\n",
    "\n",
    "# Binary Search\n",
    "# Note: The dataset must be sorted for binary search to work correctly\n",
    "binary_result = binary_search(dataset, target)\n",
    "print(f\"Binary Search: Element found at index {binary_result}\")\n",
    "Explanation of the Code\n",
    "Linear Search: Iterates through each element in the array until it finds the target element. If found, it returns the index of the element; otherwise, it returns -1.\n",
    "Binary Search: Assumes that the array is sorted. It repeatedly divides the search range in half and compares the target element with the middle element of the current range. If the target is found, it returns the index; otherwise, it narrows down the search range until the target is found or the range is exhausted.\n"
   ]
  }
 ],
 "metadata": {
  "kernelspec": {
   "display_name": "Python 3 (ipykernel)",
   "language": "python",
   "name": "python3"
  },
  "language_info": {
   "codemirror_mode": {
    "name": "ipython",
    "version": 3
   },
   "file_extension": ".py",
   "mimetype": "text/x-python",
   "name": "python",
   "nbconvert_exporter": "python",
   "pygments_lexer": "ipython3",
   "version": "3.11.7"
  }
 },
 "nbformat": 4,
 "nbformat_minor": 5
}
