{
 "cells": [
  {
   "cell_type": "code",
   "execution_count": null,
   "id": "6315993c-c9d7-4761-bd5b-01cfc2a8f7af",
   "metadata": {},
   "outputs": [],
   "source": [
    "import pandas as pd\n",
    "\n",
    "# Load the dataset\n",
    "df = pd.read_csv('Informal_Settlement_Programme.csv.csv')  # Replace 'your_dataset.csv' with the actual filename\n",
    "\n",
    "# Understanding the size, data types, columns, rows, data slicing and indexing\n",
    "print(\"Shape of the dataset:\", df.shape)\n",
    "print(\"Columns in the dataset:\", df.columns)\n",
    "print(\"Data types of columns:\")\n",
    "print(df.dtypes)\n",
    "print(\"First few rows of the dataset:\")\n",
    "print(df.head())\n",
    "\n",
    "# Identify missing data\n",
    "print(\"Missing data:\")\n",
    "print(df.isnull().sum())\n",
    "\n",
    "# Normalize or standardize data if required (Example: Min-Max scaling)\n",
    "# Example:\n",
    "# from sklearn.preprocessing import MinMaxScaler\n",
    "# scaler = MinMaxScaler()\n",
    "# df[['column_name']] = scaler.fit_transform(df[['column_name']])\n",
    "\n",
    "# Describe the data types for machine learning/statistical datasets\n",
    "# For example, if 'column_name' is a column with numerical data:\n",
    "# Markdown cell:\n",
    "# | Data Type | Description |\n",
    "# |-----------|-------------|\n",
    "# | Numerical | Continuous  |\n",
    "\n",
    "# Note: You'll need to repeat this for each column in your dataset\n"
   ]
  }
 ],
 "metadata": {
  "kernelspec": {
   "display_name": "Python 3 (ipykernel)",
   "language": "python",
   "name": "python3"
  },
  "language_info": {
   "codemirror_mode": {
    "name": "ipython",
    "version": 3
   },
   "file_extension": ".py",
   "mimetype": "text/x-python",
   "name": "python",
   "nbconvert_exporter": "python",
   "pygments_lexer": "ipython3",
   "version": "3.11.7"
  }
 },
 "nbformat": 4,
 "nbformat_minor": 5
}
