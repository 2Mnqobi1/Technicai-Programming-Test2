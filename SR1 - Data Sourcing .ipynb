{
 "cells": [
  {
   "cell_type": "code",
   "execution_count": null,
   "id": "97380c7f-0e10-4ab1-9322-b7d7be2aa206",
   "metadata": {},
   "outputs": [],
   "source": [
    "import pandas as pd\n",
    "\n",
    "# Load the dataset\n",
    "url = 'Informal_Settlement_Programme.csv.csv'\n",
    "df = pd.read_csv(url)\n",
    "\n",
    "# Display columns to understand the dataset structure\n",
    "print(df.columns)\n",
    "\n",
    "# Select relevant columns\n",
    "relevant_columns = df[['NAME_OF_SE', 'OBJECTID']]\n",
    "\n",
    "# Display the first few rows of the selected columns\n",
    "print(relevant_columns.head())\n",
    "\n",
    "# Justification of relevance:\n",
    "# 'NAME_OF_SE': Provides spatial data crucial for geographic analysis.\n",
    "# 'OBJECTID': Although it's not typically a date, it seems to be the closest to a date field in this dataset for tracking entries.\n"
   ]
  }
 ],
 "metadata": {
  "kernelspec": {
   "display_name": "Python 3 (ipykernel)",
   "language": "python",
   "name": "python3"
  },
  "language_info": {
   "codemirror_mode": {
    "name": "ipython",
    "version": 3
   },
   "file_extension": ".py",
   "mimetype": "text/x-python",
   "name": "python",
   "nbconvert_exporter": "python",
   "pygments_lexer": "ipython3",
   "version": "3.11.7"
  }
 },
 "nbformat": 4,
 "nbformat_minor": 5
}
